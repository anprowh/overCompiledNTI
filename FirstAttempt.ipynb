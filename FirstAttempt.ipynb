{
 "cells": [
  {
   "cell_type": "code",
   "execution_count": 5,
   "metadata": {},
   "outputs": [],
   "source": [
    "import tensorflow as tf\n",
    "import numpy as np\n",
    "import pandas as pd\n",
    "from matplotlib import pyplot\n",
    "%matplotlib inline"
   ]
  },
  {
   "cell_type": "code",
   "execution_count": 7,
   "metadata": {},
   "outputs": [],
   "source": [
    "x_train_in = pd.read_csv('./Data/X_train.csv')\n",
    "y_train_in = pd.read_csv('./Data/y_train.csv')\n",
    "students_in = pd.read_csv('./Data/studs_info.csv')\n",
    "x_test_send = pd.read_csv('./Data/X_test.csv')"
   ]
  },
  {
   "cell_type": "code",
   "execution_count": 385,
   "metadata": {},
   "outputs": [
    {
     "data": {
      "text/plain": [
       "(26265, 8)"
      ]
     },
     "execution_count": 385,
     "metadata": {},
     "output_type": "execute_result"
    }
   ],
   "source": [
    "x_test_send.shape"
   ]
  },
  {
   "cell_type": "code",
   "execution_count": 103,
   "metadata": {},
   "outputs": [
    {
     "data": {
      "text/html": [
       "<div>\n",
       "<style scoped>\n",
       "    .dataframe tbody tr th:only-of-type {\n",
       "        vertical-align: middle;\n",
       "    }\n",
       "\n",
       "    .dataframe tbody tr th {\n",
       "        vertical-align: top;\n",
       "    }\n",
       "\n",
       "    .dataframe thead th {\n",
       "        text-align: right;\n",
       "    }\n",
       "</style>\n",
       "<table border=\"1\" class=\"dataframe\">\n",
       "  <thead>\n",
       "    <tr style=\"text-align: right;\">\n",
       "      <th></th>\n",
       "      <th>Unnamed: 0</th>\n",
       "      <th>STD_ID</th>\n",
       "      <th>НАПРАВЛЕНИЕ</th>\n",
       "      <th>ГОД</th>\n",
       "      <th>КУРС</th>\n",
       "      <th>СЕМЕСТР</th>\n",
       "      <th>АТТЕСТАЦИЯ</th>\n",
       "      <th>ДИСЦИПЛИНА</th>\n",
       "    </tr>\n",
       "  </thead>\n",
       "  <tbody>\n",
       "    <tr>\n",
       "      <th>0</th>\n",
       "      <td>51081</td>\n",
       "      <td>175711</td>\n",
       "      <td>38.03.02 Менеджмент</td>\n",
       "      <td>2018-2019</td>\n",
       "      <td>2.0</td>\n",
       "      <td>4.0</td>\n",
       "      <td>Экзамен</td>\n",
       "      <td>Маркетинг</td>\n",
       "    </tr>\n",
       "    <tr>\n",
       "      <th>1</th>\n",
       "      <td>72921</td>\n",
       "      <td>100647</td>\n",
       "      <td>31.05.01 Лечебное дело</td>\n",
       "      <td>2015-2016</td>\n",
       "      <td>3.0</td>\n",
       "      <td>5.0</td>\n",
       "      <td>Экзамен</td>\n",
       "      <td>Пропедевтика внутренних болезней, лучевая диаг...</td>\n",
       "    </tr>\n",
       "    <tr>\n",
       "      <th>2</th>\n",
       "      <td>96438</td>\n",
       "      <td>199311</td>\n",
       "      <td>31.05.03 Стоматология</td>\n",
       "      <td>2019-2020</td>\n",
       "      <td>1.0</td>\n",
       "      <td>1.0</td>\n",
       "      <td>Экзамен</td>\n",
       "      <td>Химия</td>\n",
       "    </tr>\n",
       "    <tr>\n",
       "      <th>3</th>\n",
       "      <td>273044</td>\n",
       "      <td>162002</td>\n",
       "      <td>38.03.02 Менеджмент</td>\n",
       "      <td>2017-2018</td>\n",
       "      <td>2.0</td>\n",
       "      <td>3.0</td>\n",
       "      <td>Экзамен</td>\n",
       "      <td>Статистика</td>\n",
       "    </tr>\n",
       "    <tr>\n",
       "      <th>4</th>\n",
       "      <td>371309</td>\n",
       "      <td>108384</td>\n",
       "      <td>31.05.01 Лечебное дело</td>\n",
       "      <td>2018-2019</td>\n",
       "      <td>5.0</td>\n",
       "      <td>9.0</td>\n",
       "      <td>Экзамен</td>\n",
       "      <td>Педиатрия</td>\n",
       "    </tr>\n",
       "  </tbody>\n",
       "</table>\n",
       "</div>"
      ],
      "text/plain": [
       "   Unnamed: 0  STD_ID             НАПРАВЛЕНИЕ        ГОД  КУРС  СЕМЕСТР  \\\n",
       "0       51081  175711     38.03.02 Менеджмент  2018-2019   2.0      4.0   \n",
       "1       72921  100647  31.05.01 Лечебное дело  2015-2016   3.0      5.0   \n",
       "2       96438  199311   31.05.03 Стоматология  2019-2020   1.0      1.0   \n",
       "3      273044  162002     38.03.02 Менеджмент  2017-2018   2.0      3.0   \n",
       "4      371309  108384  31.05.01 Лечебное дело  2018-2019   5.0      9.0   \n",
       "\n",
       "  АТТЕСТАЦИЯ                                         ДИСЦИПЛИНА  \n",
       "0    Экзамен                                          Маркетинг  \n",
       "1    Экзамен  Пропедевтика внутренних болезней, лучевая диаг...  \n",
       "2    Экзамен                                              Химия  \n",
       "3    Экзамен                                         Статистика  \n",
       "4    Экзамен                                          Педиатрия  "
      ]
     },
     "execution_count": 103,
     "metadata": {},
     "output_type": "execute_result"
    }
   ],
   "source": [
    "x_train_in.head()"
   ]
  },
  {
   "cell_type": "code",
   "execution_count": 96,
   "metadata": {},
   "outputs": [
    {
     "data": {
      "text/html": [
       "<div>\n",
       "<style scoped>\n",
       "    .dataframe tbody tr th:only-of-type {\n",
       "        vertical-align: middle;\n",
       "    }\n",
       "\n",
       "    .dataframe tbody tr th {\n",
       "        vertical-align: top;\n",
       "    }\n",
       "\n",
       "    .dataframe thead th {\n",
       "        text-align: right;\n",
       "    }\n",
       "</style>\n",
       "<table border=\"1\" class=\"dataframe\">\n",
       "  <thead>\n",
       "    <tr style=\"text-align: right;\">\n",
       "      <th></th>\n",
       "      <th>index</th>\n",
       "      <th>mark</th>\n",
       "    </tr>\n",
       "  </thead>\n",
       "  <tbody>\n",
       "    <tr>\n",
       "      <th>0</th>\n",
       "      <td>51081</td>\n",
       "      <td>5</td>\n",
       "    </tr>\n",
       "    <tr>\n",
       "      <th>1</th>\n",
       "      <td>72921</td>\n",
       "      <td>5</td>\n",
       "    </tr>\n",
       "    <tr>\n",
       "      <th>2</th>\n",
       "      <td>96438</td>\n",
       "      <td>5</td>\n",
       "    </tr>\n",
       "    <tr>\n",
       "      <th>3</th>\n",
       "      <td>273044</td>\n",
       "      <td>4</td>\n",
       "    </tr>\n",
       "    <tr>\n",
       "      <th>4</th>\n",
       "      <td>371309</td>\n",
       "      <td>3</td>\n",
       "    </tr>\n",
       "  </tbody>\n",
       "</table>\n",
       "</div>"
      ],
      "text/plain": [
       "    index  mark\n",
       "0   51081     5\n",
       "1   72921     5\n",
       "2   96438     5\n",
       "3  273044     4\n",
       "4  371309     3"
      ]
     },
     "execution_count": 96,
     "metadata": {},
     "output_type": "execute_result"
    }
   ],
   "source": [
    "y_train_in.head()"
   ]
  },
  {
   "cell_type": "code",
   "execution_count": 162,
   "metadata": {},
   "outputs": [
    {
     "data": {
      "text/html": [
       "<div>\n",
       "<style scoped>\n",
       "    .dataframe tbody tr th:only-of-type {\n",
       "        vertical-align: middle;\n",
       "    }\n",
       "\n",
       "    .dataframe tbody tr th {\n",
       "        vertical-align: top;\n",
       "    }\n",
       "\n",
       "    .dataframe thead th {\n",
       "        text-align: right;\n",
       "    }\n",
       "</style>\n",
       "<table border=\"1\" class=\"dataframe\">\n",
       "  <thead>\n",
       "    <tr style=\"text-align: right;\">\n",
       "      <th></th>\n",
       "      <th>STD_ID</th>\n",
       "      <th>number</th>\n",
       "      <th>Пол</th>\n",
       "      <th>Статус</th>\n",
       "      <th>Дата выпуска</th>\n",
       "      <th>Категория обучения</th>\n",
       "      <th>Форма обучения</th>\n",
       "      <th>Шифр</th>\n",
       "      <th>направление (специальность)</th>\n",
       "      <th></th>\n",
       "      <th>Образование</th>\n",
       "      <th>Дата выдачи</th>\n",
       "      <th>Что именно закончил</th>\n",
       "    </tr>\n",
       "  </thead>\n",
       "  <tbody>\n",
       "    <tr>\n",
       "      <th>0</th>\n",
       "      <td>99136</td>\n",
       "      <td>13951.0</td>\n",
       "      <td>Ж</td>\n",
       "      <td>ВЫП</td>\n",
       "      <td>2019-08-31</td>\n",
       "      <td>БП</td>\n",
       "      <td>Д</td>\n",
       "      <td>31.05.01</td>\n",
       "      <td>Лечебное дело</td>\n",
       "      <td>2629.0</td>\n",
       "      <td>СР</td>\n",
       "      <td>2013-06-26 00:00:00</td>\n",
       "      <td>ИНОГОРОДНЯЯ СРЕДНЯЯ ШКОЛА</td>\n",
       "    </tr>\n",
       "    <tr>\n",
       "      <th>1</th>\n",
       "      <td>99112</td>\n",
       "      <td>13998.0</td>\n",
       "      <td>Ж</td>\n",
       "      <td>ВЫП</td>\n",
       "      <td>2019-08-31</td>\n",
       "      <td>БП</td>\n",
       "      <td>Д</td>\n",
       "      <td>31.05.01</td>\n",
       "      <td>Лечебное дело</td>\n",
       "      <td>8240.0</td>\n",
       "      <td>СР</td>\n",
       "      <td>2012-06-23 00:00:00</td>\n",
       "      <td>МОУ СОШ N   2, ПЕСТОВО</td>\n",
       "    </tr>\n",
       "    <tr>\n",
       "      <th>2</th>\n",
       "      <td>99109</td>\n",
       "      <td>13999.0</td>\n",
       "      <td>Ж</td>\n",
       "      <td>ВЫП</td>\n",
       "      <td>2019-08-31</td>\n",
       "      <td>БП</td>\n",
       "      <td>Д</td>\n",
       "      <td>31.05.01</td>\n",
       "      <td>Лечебное дело</td>\n",
       "      <td>2314.0</td>\n",
       "      <td>СР</td>\n",
       "      <td>2013-06-25 00:00:00</td>\n",
       "      <td>ИНОГОРОДНЯЯ СРЕДНЯЯ ШКОЛА</td>\n",
       "    </tr>\n",
       "    <tr>\n",
       "      <th>3</th>\n",
       "      <td>99125</td>\n",
       "      <td>13953.0</td>\n",
       "      <td>Ж</td>\n",
       "      <td>ВЫП</td>\n",
       "      <td>2019-08-31</td>\n",
       "      <td>БП</td>\n",
       "      <td>Д</td>\n",
       "      <td>31.05.01</td>\n",
       "      <td>Лечебное дело</td>\n",
       "      <td>2345.0</td>\n",
       "      <td>СР</td>\n",
       "      <td>2013-06-23 00:00:00</td>\n",
       "      <td>Гимназия \"ГАРМОНИЯ\"</td>\n",
       "    </tr>\n",
       "    <tr>\n",
       "      <th>4</th>\n",
       "      <td>100676</td>\n",
       "      <td>13950.0</td>\n",
       "      <td>М</td>\n",
       "      <td>ВЫП</td>\n",
       "      <td>2019-08-31</td>\n",
       "      <td>БП</td>\n",
       "      <td>Д</td>\n",
       "      <td>31.05.01</td>\n",
       "      <td>Лечебное дело</td>\n",
       "      <td>2650.0</td>\n",
       "      <td>СР</td>\n",
       "      <td>2012-06-29 00:00:00</td>\n",
       "      <td>ИНОГОРОДНЯЯ СРЕДНЯЯ ШКОЛА</td>\n",
       "    </tr>\n",
       "  </tbody>\n",
       "</table>\n",
       "</div>"
      ],
      "text/plain": [
       "   STD_ID     number Пол Статус Дата выпуска Категория обучения  \\\n",
       "0   99136    13951.0   Ж    ВЫП   2019-08-31                 БП   \n",
       "1   99112    13998.0   Ж    ВЫП   2019-08-31                 БП   \n",
       "2   99109    13999.0   Ж    ВЫП   2019-08-31                 БП   \n",
       "3   99125    13953.0   Ж    ВЫП   2019-08-31                 БП   \n",
       "4  100676    13950.0   М    ВЫП   2019-08-31                 БП   \n",
       "\n",
       "  Форма обучения      Шифр направление (специальность)         Образование  \\\n",
       "0              Д  31.05.01               Лечебное дело  2629.0          СР   \n",
       "1              Д  31.05.01               Лечебное дело  8240.0          СР   \n",
       "2              Д  31.05.01               Лечебное дело  2314.0          СР   \n",
       "3              Д  31.05.01               Лечебное дело  2345.0          СР   \n",
       "4              Д  31.05.01               Лечебное дело  2650.0          СР   \n",
       "\n",
       "           Дата выдачи        Что именно закончил  \n",
       "0  2013-06-26 00:00:00  ИНОГОРОДНЯЯ СРЕДНЯЯ ШКОЛА  \n",
       "1  2012-06-23 00:00:00     МОУ СОШ N   2, ПЕСТОВО  \n",
       "2  2013-06-25 00:00:00  ИНОГОРОДНЯЯ СРЕДНЯЯ ШКОЛА  \n",
       "3  2013-06-23 00:00:00        Гимназия \"ГАРМОНИЯ\"  \n",
       "4  2012-06-29 00:00:00  ИНОГОРОДНЯЯ СРЕДНЯЯ ШКОЛА  "
      ]
     },
     "execution_count": 162,
     "metadata": {},
     "output_type": "execute_result"
    }
   ],
   "source": [
    "\n",
    "students_in.head()#.iloc[0,10]"
   ]
  },
  {
   "cell_type": "code",
   "execution_count": 90,
   "metadata": {},
   "outputs": [
    {
     "name": "stdout",
     "output_type": "stream",
     "text": [
      "55 55\n"
     ]
    }
   ],
   "source": [
    "print(set(train_in['НАправление'.upper()]).__len__(),\n",
    "     {x[:9] for x in set(train_in['НАправление'.upper()])}.__len__())"
   ]
  },
  {
   "cell_type": "code",
   "execution_count": 74,
   "metadata": {},
   "outputs": [
    {
     "data": {
      "text/html": [
       "<div>\n",
       "<style scoped>\n",
       "    .dataframe tbody tr th:only-of-type {\n",
       "        vertical-align: middle;\n",
       "    }\n",
       "\n",
       "    .dataframe tbody tr th {\n",
       "        vertical-align: top;\n",
       "    }\n",
       "\n",
       "    .dataframe thead th {\n",
       "        text-align: right;\n",
       "    }\n",
       "</style>\n",
       "<table border=\"1\" class=\"dataframe\">\n",
       "  <thead>\n",
       "    <tr style=\"text-align: right;\">\n",
       "      <th></th>\n",
       "      <th>STD_ID</th>\n",
       "      <th>НАПРАВЛЕНИЕ</th>\n",
       "      <th>ГОД</th>\n",
       "      <th>КУРС</th>\n",
       "      <th>СЕМЕСТР</th>\n",
       "      <th>АТТЕСТАЦИЯ</th>\n",
       "      <th>ДИСЦИПЛИНА</th>\n",
       "    </tr>\n",
       "  </thead>\n",
       "  <tbody>\n",
       "    <tr>\n",
       "      <th>0</th>\n",
       "      <td>175711</td>\n",
       "      <td>38.03.02 Менеджмент</td>\n",
       "      <td>2018-2019</td>\n",
       "      <td>2.0</td>\n",
       "      <td>4.0</td>\n",
       "      <td>Экзамен</td>\n",
       "      <td>Маркетинг</td>\n",
       "    </tr>\n",
       "    <tr>\n",
       "      <th>1</th>\n",
       "      <td>100647</td>\n",
       "      <td>31.05.01 Лечебное дело</td>\n",
       "      <td>2015-2016</td>\n",
       "      <td>3.0</td>\n",
       "      <td>5.0</td>\n",
       "      <td>Экзамен</td>\n",
       "      <td>Пропедевтика внутренних болезней, лучевая диаг...</td>\n",
       "    </tr>\n",
       "    <tr>\n",
       "      <th>2</th>\n",
       "      <td>199311</td>\n",
       "      <td>31.05.03 Стоматология</td>\n",
       "      <td>2019-2020</td>\n",
       "      <td>1.0</td>\n",
       "      <td>1.0</td>\n",
       "      <td>Экзамен</td>\n",
       "      <td>Химия</td>\n",
       "    </tr>\n",
       "    <tr>\n",
       "      <th>3</th>\n",
       "      <td>162002</td>\n",
       "      <td>38.03.02 Менеджмент</td>\n",
       "      <td>2017-2018</td>\n",
       "      <td>2.0</td>\n",
       "      <td>3.0</td>\n",
       "      <td>Экзамен</td>\n",
       "      <td>Статистика</td>\n",
       "    </tr>\n",
       "    <tr>\n",
       "      <th>4</th>\n",
       "      <td>108384</td>\n",
       "      <td>31.05.01 Лечебное дело</td>\n",
       "      <td>2018-2019</td>\n",
       "      <td>5.0</td>\n",
       "      <td>9.0</td>\n",
       "      <td>Экзамен</td>\n",
       "      <td>Педиатрия</td>\n",
       "    </tr>\n",
       "    <tr>\n",
       "      <th>...</th>\n",
       "      <td>...</td>\n",
       "      <td>...</td>\n",
       "      <td>...</td>\n",
       "      <td>...</td>\n",
       "      <td>...</td>\n",
       "      <td>...</td>\n",
       "      <td>...</td>\n",
       "    </tr>\n",
       "    <tr>\n",
       "      <th>105053</th>\n",
       "      <td>176141</td>\n",
       "      <td>40.03.01 Юриспруденция</td>\n",
       "      <td>2017-2018</td>\n",
       "      <td>1.0</td>\n",
       "      <td>2.0</td>\n",
       "      <td>Курсовая работа</td>\n",
       "      <td>Конституционное право</td>\n",
       "    </tr>\n",
       "    <tr>\n",
       "      <th>105054</th>\n",
       "      <td>182794</td>\n",
       "      <td>31.05.01 Лечебное дело</td>\n",
       "      <td>2018-2019</td>\n",
       "      <td>2.0</td>\n",
       "      <td>4.0</td>\n",
       "      <td>Экзамен</td>\n",
       "      <td>Нормальная физиология</td>\n",
       "    </tr>\n",
       "    <tr>\n",
       "      <th>105055</th>\n",
       "      <td>162391</td>\n",
       "      <td>31.05.01 Лечебное дело</td>\n",
       "      <td>2016-2017</td>\n",
       "      <td>1.0</td>\n",
       "      <td>2.0</td>\n",
       "      <td>Дифференцированный зачет</td>\n",
       "      <td>Иностранный язык</td>\n",
       "    </tr>\n",
       "    <tr>\n",
       "      <th>105056</th>\n",
       "      <td>202479</td>\n",
       "      <td>38.03.01 Экономика</td>\n",
       "      <td>2017-2018</td>\n",
       "      <td>1.0</td>\n",
       "      <td>1.0</td>\n",
       "      <td>Дифференцированный зачет</td>\n",
       "      <td>Информатика</td>\n",
       "    </tr>\n",
       "    <tr>\n",
       "      <th>105057</th>\n",
       "      <td>182325</td>\n",
       "      <td>08.03.01 Строительство</td>\n",
       "      <td>2018-2019</td>\n",
       "      <td>2.0</td>\n",
       "      <td>3.0</td>\n",
       "      <td>Курсовая работа</td>\n",
       "      <td>Технологические процессы в строительстве</td>\n",
       "    </tr>\n",
       "  </tbody>\n",
       "</table>\n",
       "<p>105058 rows × 7 columns</p>\n",
       "</div>"
      ],
      "text/plain": [
       "        STD_ID             НАПРАВЛЕНИЕ        ГОД  КУРС  СЕМЕСТР  \\\n",
       "0       175711     38.03.02 Менеджмент  2018-2019   2.0      4.0   \n",
       "1       100647  31.05.01 Лечебное дело  2015-2016   3.0      5.0   \n",
       "2       199311   31.05.03 Стоматология  2019-2020   1.0      1.0   \n",
       "3       162002     38.03.02 Менеджмент  2017-2018   2.0      3.0   \n",
       "4       108384  31.05.01 Лечебное дело  2018-2019   5.0      9.0   \n",
       "...        ...                     ...        ...   ...      ...   \n",
       "105053  176141  40.03.01 Юриспруденция  2017-2018   1.0      2.0   \n",
       "105054  182794  31.05.01 Лечебное дело  2018-2019   2.0      4.0   \n",
       "105055  162391  31.05.01 Лечебное дело  2016-2017   1.0      2.0   \n",
       "105056  202479      38.03.01 Экономика  2017-2018   1.0      1.0   \n",
       "105057  182325  08.03.01 Строительство  2018-2019   2.0      3.0   \n",
       "\n",
       "                      АТТЕСТАЦИЯ  \\\n",
       "0                        Экзамен   \n",
       "1                        Экзамен   \n",
       "2                        Экзамен   \n",
       "3                        Экзамен   \n",
       "4                        Экзамен   \n",
       "...                          ...   \n",
       "105053           Курсовая работа   \n",
       "105054                   Экзамен   \n",
       "105055  Дифференцированный зачет   \n",
       "105056  Дифференцированный зачет   \n",
       "105057           Курсовая работа   \n",
       "\n",
       "                                               ДИСЦИПЛИНА  \n",
       "0                                               Маркетинг  \n",
       "1       Пропедевтика внутренних болезней, лучевая диаг...  \n",
       "2                                                   Химия  \n",
       "3                                              Статистика  \n",
       "4                                               Педиатрия  \n",
       "...                                                   ...  \n",
       "105053                              Конституционное право  \n",
       "105054                              Нормальная физиология  \n",
       "105055                                   Иностранный язык  \n",
       "105056                                        Информатика  \n",
       "105057           Технологические процессы в строительстве  \n",
       "\n",
       "[105058 rows x 7 columns]"
      ]
     },
     "execution_count": 74,
     "metadata": {},
     "output_type": "execute_result"
    }
   ],
   "source": [
    "x_train_in.iloc[:,1:]"
   ]
  },
  {
   "cell_type": "code",
   "execution_count": 110,
   "metadata": {},
   "outputs": [],
   "source": [
    "train_in = pd.concat((x_train_in.iloc[:,1:],y_train_in['mark']),axis=1,ignore_index=True)\n",
    "train_in.columns = list(x_train_in.columns)[1:] + list(y_train_in.columns)[1:]\n",
    "dirList = [x[:8] for x in list(set(train_in['НАправление'.upper()]))]\n",
    "dirList.sort()\n",
    "dirConvert = {dirList[i]:i for i in range(len(dirList))}"
   ]
  },
  {
   "cell_type": "code",
   "execution_count": 112,
   "metadata": {},
   "outputs": [
    {
     "data": {
      "text/plain": [
       "55"
      ]
     },
     "execution_count": 112,
     "metadata": {},
     "output_type": "execute_result"
    }
   ],
   "source": [
    "dirList.__len__()"
   ]
  },
  {
   "cell_type": "code",
   "execution_count": 42,
   "metadata": {},
   "outputs": [
    {
     "data": {
      "text/plain": [
       "True"
      ]
     },
     "execution_count": 42,
     "metadata": {},
     "output_type": "execute_result"
    }
   ],
   "source": [
    "for i in range(len(repeat)):\n",
    "    if students_in[students_in['STD_ID']==repeat[i]].__len__()>2:\n",
    "        smth = students_in[students_in['STD_ID']==repeat[i]]\n",
    "        break\n",
    "#smth\n",
    "'СП' in list(smth['Образование'])"
   ]
  },
  {
   "cell_type": "code",
   "execution_count": 38,
   "metadata": {},
   "outputs": [],
   "source": [
    "worktypes = list(set(x_train_in['АТТЕСТАЦИЯ'])) # 5 types of work"
   ]
  },
  {
   "cell_type": "code",
   "execution_count": 186,
   "metadata": {},
   "outputs": [
    {
     "data": {
      "text/plain": [
       "['Курсовой проект',\n",
       " 'Экзамен',\n",
       " 'Зачет',\n",
       " 'Дифференцированный зачет',\n",
       " 'Курсовая работа']"
      ]
     },
     "execution_count": 186,
     "metadata": {},
     "output_type": "execute_result"
    }
   ],
   "source": [
    "list(set(x_train_in['АТТЕСТАЦИЯ']))"
   ]
  },
  {
   "cell_type": "code",
   "execution_count": 147,
   "metadata": {},
   "outputs": [
    {
     "data": {
      "text/html": [
       "<div>\n",
       "<style scoped>\n",
       "    .dataframe tbody tr th:only-of-type {\n",
       "        vertical-align: middle;\n",
       "    }\n",
       "\n",
       "    .dataframe tbody tr th {\n",
       "        vertical-align: top;\n",
       "    }\n",
       "\n",
       "    .dataframe thead th {\n",
       "        text-align: right;\n",
       "    }\n",
       "</style>\n",
       "<table border=\"1\" class=\"dataframe\">\n",
       "  <thead>\n",
       "    <tr style=\"text-align: right;\">\n",
       "      <th></th>\n",
       "      <th>Unnamed: 0</th>\n",
       "      <th>STD_ID</th>\n",
       "      <th>НАПРАВЛЕНИЕ</th>\n",
       "      <th>ГОД</th>\n",
       "      <th>КУРС</th>\n",
       "      <th>СЕМЕСТР</th>\n",
       "      <th>АТТЕСТАЦИЯ</th>\n",
       "      <th>ДИСЦИПЛИНА</th>\n",
       "    </tr>\n",
       "  </thead>\n",
       "  <tbody>\n",
       "    <tr>\n",
       "      <th>0</th>\n",
       "      <td>56065</td>\n",
       "      <td>163261</td>\n",
       "      <td>35.03.04 Агрономия</td>\n",
       "      <td>2018-2019</td>\n",
       "      <td>3.0</td>\n",
       "      <td>5.0</td>\n",
       "      <td>Дифференцированный зачет</td>\n",
       "      <td>История</td>\n",
       "    </tr>\n",
       "    <tr>\n",
       "      <th>1</th>\n",
       "      <td>304637</td>\n",
       "      <td>162990</td>\n",
       "      <td>23.03.03 Эксплуатация транспортно-технологичес...</td>\n",
       "      <td>2019-2020</td>\n",
       "      <td>4.0</td>\n",
       "      <td>7.0</td>\n",
       "      <td>Экзамен</td>\n",
       "      <td>Сертификация и лицензирование в сфере производ...</td>\n",
       "    </tr>\n",
       "    <tr>\n",
       "      <th>2</th>\n",
       "      <td>177437</td>\n",
       "      <td>192595</td>\n",
       "      <td>40.03.01 Юриспруденция</td>\n",
       "      <td>2018-2019</td>\n",
       "      <td>1.0</td>\n",
       "      <td>2.0</td>\n",
       "      <td>Экзамен</td>\n",
       "      <td>История государства и права России</td>\n",
       "    </tr>\n",
       "    <tr>\n",
       "      <th>3</th>\n",
       "      <td>222396</td>\n",
       "      <td>198675</td>\n",
       "      <td>38.03.01 Экономика</td>\n",
       "      <td>2018-2019</td>\n",
       "      <td>2.0</td>\n",
       "      <td>3.0</td>\n",
       "      <td>Дифференцированный зачет</td>\n",
       "      <td>Иностранный язык в сфере профессиональной комм...</td>\n",
       "    </tr>\n",
       "    <tr>\n",
       "      <th>4</th>\n",
       "      <td>271996</td>\n",
       "      <td>162111</td>\n",
       "      <td>44.03.05 Педагогическое образование (с двумя п...</td>\n",
       "      <td>2018-2019</td>\n",
       "      <td>3.0</td>\n",
       "      <td>6.0</td>\n",
       "      <td>Экзамен</td>\n",
       "      <td>Физическая химия</td>\n",
       "    </tr>\n",
       "  </tbody>\n",
       "</table>\n",
       "</div>"
      ],
      "text/plain": [
       "   Unnamed: 0  STD_ID                                        НАПРАВЛЕНИЕ  \\\n",
       "0       56065  163261                                 35.03.04 Агрономия   \n",
       "1      304637  162990  23.03.03 Эксплуатация транспортно-технологичес...   \n",
       "2      177437  192595                             40.03.01 Юриспруденция   \n",
       "3      222396  198675                                 38.03.01 Экономика   \n",
       "4      271996  162111  44.03.05 Педагогическое образование (с двумя п...   \n",
       "\n",
       "         ГОД  КУРС  СЕМЕСТР                АТТЕСТАЦИЯ  \\\n",
       "0  2018-2019   3.0      5.0  Дифференцированный зачет   \n",
       "1  2019-2020   4.0      7.0                   Экзамен   \n",
       "2  2018-2019   1.0      2.0                   Экзамен   \n",
       "3  2018-2019   2.0      3.0  Дифференцированный зачет   \n",
       "4  2018-2019   3.0      6.0                   Экзамен   \n",
       "\n",
       "                                          ДИСЦИПЛИНА  \n",
       "0                                            История  \n",
       "1  Сертификация и лицензирование в сфере производ...  \n",
       "2                 История государства и права России  \n",
       "3  Иностранный язык в сфере профессиональной комм...  \n",
       "4                                   Физическая химия  "
      ]
     },
     "execution_count": 147,
     "metadata": {},
     "output_type": "execute_result"
    }
   ],
   "source": [
    "x_test_send.head()"
   ]
  },
  {
   "cell_type": "code",
   "execution_count": 150,
   "metadata": {},
   "outputs": [
    {
     "data": {
      "text/plain": [
       "{nan, 'НВ', 'НП', 'НС', 'ОО', 'ОСН', 'СП', 'СР'}"
      ]
     },
     "execution_count": 150,
     "metadata": {},
     "output_type": "execute_result"
    }
   ],
   "source": [
    "set(students_in['Образование'])"
   ]
  },
  {
   "cell_type": "markdown",
   "metadata": {},
   "source": [
    "## Neurons: 2 for gender, 12 for term, 55 for course, 2 for category of education, 7 for type of education. 78 total"
   ]
  },
  {
   "cell_type": "code",
   "execution_count": 152,
   "metadata": {},
   "outputs": [],
   "source": [
    "testtypesconverter = {worktypes[i]:i for i in range(len(worktypes))}"
   ]
  },
  {
   "cell_type": "code",
   "execution_count": 151,
   "metadata": {},
   "outputs": [],
   "source": [
    "gender = {'Ж':0, 'М':1}\n",
    "# term = term-1\n",
    "# dirConvert\n",
    "category = {'БП':0, 'ДОГ':1}\n",
    "typeofed = {'НВ':0, 'НП':1, 'НС':2, 'ОСН':3, 'СП':4, 'СР':5, 'ОО':6}"
   ]
  },
  {
   "cell_type": "code",
   "execution_count": 198,
   "metadata": {},
   "outputs": [
    {
     "data": {
      "text/plain": [
       "3"
      ]
     },
     "execution_count": 198,
     "metadata": {},
     "output_type": "execute_result"
    }
   ],
   "source": [
    "y_train_in[y_train_in.iloc[:,0]==371309].iloc[0,1]"
   ]
  },
  {
   "cell_type": "code",
   "execution_count": 406,
   "metadata": {},
   "outputs": [
    {
     "name": "stdout",
     "output_type": "stream",
     "text": [
      "105057\r"
     ]
    }
   ],
   "source": [
    "n = x_train_in.shape[0]\n",
    "examTrainD = [[] for i in range(5)]\n",
    "for i in range(n):\n",
    "    print(i,end='\\r')\n",
    "    test = x_train_in.iloc[i]\n",
    "    stud = students_in[students_in['STD_ID']==test[1]].iloc[0]\n",
    "    tt = testtypesconverter.get(test[6],0)\n",
    "    gnd = gender.get(stud[1],0)\n",
    "    term = int(test[5]-1)\n",
    "    crs = dirConvert.get(test[2][:8],0)\n",
    "    ctg = category.get(stud[5],0)\n",
    "    tped = typeofed.get(stud[10],0)\n",
    "    res = y_train_in[y_train_in.iloc[:,0]==test[0]].iloc[0,1] - 3\n",
    "    iden = np.identity\n",
    "    case = np.concatenate([iden(2)[gnd],iden(12)[term],iden(55)[crs],iden(2)[ctg],iden(7)[tped],[stud[0]],[res]])\n",
    "    examTrainD[tt].append(case)"
   ]
  },
  {
   "cell_type": "code",
   "execution_count": 407,
   "metadata": {},
   "outputs": [],
   "source": [
    "examTrainD = [np.array(x) for x in examTrainD]"
   ]
  },
  {
   "cell_type": "code",
   "execution_count": 408,
   "metadata": {
    "scrolled": true
   },
   "outputs": [
    {
     "data": {
      "text/plain": [
       "(1631, 80)"
      ]
     },
     "execution_count": 408,
     "metadata": {},
     "output_type": "execute_result"
    }
   ],
   "source": [
    "examTrainD[0].shape"
   ]
  },
  {
   "cell_type": "code",
   "execution_count": 244,
   "metadata": {},
   "outputs": [],
   "source": [
    "for i in range(5):\n",
    "    extry = examTrainD[i][:,79]*2+examTrainD[i][:,80]*1+examTrainD[i][:,81]*0\n",
    "    examTrainD[i] = np.concatenate([examTrainD[i][:,:79],extry.reshape((extry.shape[0],1))],axis=1)\n",
    "    #examTrainD[0]"
   ]
  },
  {
   "cell_type": "code",
   "execution_count": 202,
   "metadata": {},
   "outputs": [],
   "source": [
    "from sklearn.model_selection import train_test_split"
   ]
  },
  {
   "cell_type": "code",
   "execution_count": 245,
   "metadata": {},
   "outputs": [],
   "source": [
    "train_data = [train_test_split(examTrainD[i][:,:79],examTrainD[i][:,79:],test_size=0.2) for i in range(5)]"
   ]
  },
  {
   "cell_type": "code",
   "execution_count": 246,
   "metadata": {},
   "outputs": [
    {
     "data": {
      "text/plain": [
       "(1304, 1)"
      ]
     },
     "execution_count": 246,
     "metadata": {},
     "output_type": "execute_result"
    }
   ],
   "source": [
    "train_data[0][2].shape"
   ]
  },
  {
   "cell_type": "code",
   "execution_count": 304,
   "metadata": {},
   "outputs": [],
   "source": [
    "class NN:\n",
    "    def __init__(self):\n",
    "        self.model = tf.keras.models.Sequential([\n",
    "            tf.keras.layers.Dense(79,input_shape=(79,)),\n",
    "            tf.keras.layers.Dropout(0.2),\n",
    "            tf.keras.layers.Dense(1000,activation='elu'),\n",
    "            tf.keras.layers.Dropout(0.5),\n",
    "            tf.keras.layers.Dense(1000,activation='elu'),\n",
    "            tf.keras.layers.Dropout(0.5),\n",
    "            tf.keras.layers.Dense(1000,activation='elu'),\n",
    "            tf.keras.layers.Dropout(0.5),\n",
    "            tf.keras.layers.Dense(3,activation='softmax')\n",
    "        ])\n",
    "        self.model.compile(optimizer=tf.keras.optimizers.Adam(learning_rate=0.1),\n",
    "                             loss = 'sparse_categorical_crossentropy',\n",
    "                             metrics = ['accuracy'])"
   ]
  },
  {
   "cell_type": "code",
   "execution_count": 305,
   "metadata": {},
   "outputs": [],
   "source": [
    "NNs = [NN() for i in range(5)]\n",
    "#tf.keras.models.Model.fit()"
   ]
  },
  {
   "cell_type": "code",
   "execution_count": 402,
   "metadata": {},
   "outputs": [],
   "source": [
    "for nn in NNs:\n",
    "    nn.model.compile(optimizer=tf.keras.optimizers.Adagrad(learning_rate=0.001),\n",
    "                             loss = 'sparse_categorical_crossentropy',\n",
    "                             metrics = ['accuracy'])"
   ]
  },
  {
   "cell_type": "code",
   "execution_count": 307,
   "metadata": {},
   "outputs": [],
   "source": [
    "nnet=1"
   ]
  },
  {
   "cell_type": "code",
   "execution_count": 308,
   "metadata": {},
   "outputs": [
    {
     "name": "stdout",
     "output_type": "stream",
     "text": [
      "327/327 [==============================] - 0s 608us/sample - loss: 1.1003 - accuracy: 0.3364\n",
      "12019/12019 [==============================] - 2s 204us/sample - loss: 1.1016 - accuracy: 0.3284\n",
      "5/5 [==============================] - 0s 27ms/sample - loss: 1.1057 - accuracy: 0.4000\n",
      "7559/7559 [==============================] - 4s 581us/sample - loss: 1.0841 - accuracy: 0.3969\n",
      "1105/1105 [==============================] - 1s 455us/sample - loss: 1.1516 - accuracy: 0.2253\n"
     ]
    },
    {
     "data": {
      "text/plain": [
       "[[1.1003402023140443, 0.33639145],\n",
       " [1.1016211364300796, 0.3283967],\n",
       " [1.1056759357452393, 0.4],\n",
       " [1.0840993830728411, 0.39687788],\n",
       " [1.1516288534009078, 0.22533937]]"
      ]
     },
     "execution_count": 308,
     "metadata": {},
     "output_type": "execute_result"
    }
   ],
   "source": [
    "[NNs[nnet].model.evaluate(train_data[nnet][1],train_data[nnet][3]) for nnet in range(5)]"
   ]
  },
  {
   "cell_type": "code",
   "execution_count": 403,
   "metadata": {
    "scrolled": true
   },
   "outputs": [
    {
     "name": "stdout",
     "output_type": "stream",
     "text": [
      "Train on 1304 samples\n",
      "Epoch 1/100\n",
      "1304/1304 [==============================] - 1s 455us/sample - loss: 0.8584 - accuracy: 0.5613\n",
      "Epoch 2/100\n",
      "1304/1304 [==============================] - 0s 114us/sample - loss: 0.8610 - accuracy: 0.5713\n",
      "Epoch 3/100\n",
      "1304/1304 [==============================] - 0s 111us/sample - loss: 0.8534 - accuracy: 0.5706\n",
      "Epoch 4/100\n",
      "1304/1304 [==============================] - 0s 112us/sample - loss: 0.8586 - accuracy: 0.5521\n",
      "Epoch 5/100\n",
      "1304/1304 [==============================] - 0s 115us/sample - loss: 0.8570 - accuracy: 0.5729\n",
      "Epoch 6/100\n",
      "1304/1304 [==============================] - 0s 115us/sample - loss: 0.8529 - accuracy: 0.5560\n",
      "Epoch 7/100\n",
      "1304/1304 [==============================] - 0s 117us/sample - loss: 0.8493 - accuracy: 0.5698\n",
      "Epoch 8/100\n",
      "1304/1304 [==============================] - 0s 115us/sample - loss: 0.8557 - accuracy: 0.5491\n",
      "Epoch 9/100\n",
      "1304/1304 [==============================] - 0s 104us/sample - loss: 0.8576 - accuracy: 0.5744\n",
      "Epoch 10/100\n",
      "1304/1304 [==============================] - 0s 112us/sample - loss: 0.8548 - accuracy: 0.5698\n",
      "Epoch 11/100\n",
      "1304/1304 [==============================] - 0s 108us/sample - loss: 0.8518 - accuracy: 0.5706\n",
      "Epoch 12/100\n",
      "1304/1304 [==============================] - 0s 107us/sample - loss: 0.8646 - accuracy: 0.5560\n",
      "Epoch 13/100\n",
      "1304/1304 [==============================] - 0s 97us/sample - loss: 0.8548 - accuracy: 0.5621\n",
      "Epoch 14/100\n",
      "1304/1304 [==============================] - 0s 87us/sample - loss: 0.8562 - accuracy: 0.5637\n",
      "Epoch 15/100\n",
      "1304/1304 [==============================] - 0s 93us/sample - loss: 0.8492 - accuracy: 0.5736\n",
      "Epoch 16/100\n",
      "1304/1304 [==============================] - 0s 96us/sample - loss: 0.8531 - accuracy: 0.5598\n",
      "Epoch 17/100\n",
      "1304/1304 [==============================] - 0s 103us/sample - loss: 0.8529 - accuracy: 0.5560\n",
      "Epoch 18/100\n",
      "1304/1304 [==============================] - 0s 89us/sample - loss: 0.8537 - accuracy: 0.5575\n",
      "Epoch 19/100\n",
      "1304/1304 [==============================] - 0s 96us/sample - loss: 0.8582 - accuracy: 0.5629\n",
      "Epoch 20/100\n",
      "1304/1304 [==============================] - 0s 97us/sample - loss: 0.8526 - accuracy: 0.5644\n",
      "Epoch 21/100\n",
      "1304/1304 [==============================] - 0s 128us/sample - loss: 0.8589 - accuracy: 0.5567\n",
      "Epoch 22/100\n",
      "1304/1304 [==============================] - 0s 135us/sample - loss: 0.8558 - accuracy: 0.5629\n",
      "Epoch 23/100\n",
      "1304/1304 [==============================] - 0s 114us/sample - loss: 0.8580 - accuracy: 0.5606\n",
      "Epoch 24/100\n",
      "1304/1304 [==============================] - 0s 112us/sample - loss: 0.8527 - accuracy: 0.5606\n",
      "Epoch 25/100\n",
      "1304/1304 [==============================] - 0s 114us/sample - loss: 0.8583 - accuracy: 0.5637\n",
      "Epoch 26/100\n",
      "1304/1304 [==============================] - 0s 98us/sample - loss: 0.8644 - accuracy: 0.5560\n",
      "Epoch 27/100\n",
      "1304/1304 [==============================] - 0s 132us/sample - loss: 0.8563 - accuracy: 0.5567\n",
      "Epoch 28/100\n",
      "1304/1304 [==============================] - 0s 129us/sample - loss: 0.8583 - accuracy: 0.5637\n",
      "Epoch 29/100\n",
      "1304/1304 [==============================] - 0s 132us/sample - loss: 0.8598 - accuracy: 0.5590\n",
      "Epoch 30/100\n",
      "1304/1304 [==============================] - 0s 122us/sample - loss: 0.8443 - accuracy: 0.5836\n",
      "Epoch 31/100\n",
      "1304/1304 [==============================] - 0s 126us/sample - loss: 0.8533 - accuracy: 0.5683\n",
      "Epoch 32/100\n",
      "1304/1304 [==============================] - 0s 132us/sample - loss: 0.8534 - accuracy: 0.5675\n",
      "Epoch 33/100\n",
      "1304/1304 [==============================] - 0s 126us/sample - loss: 0.8544 - accuracy: 0.5652\n",
      "Epoch 34/100\n",
      "1304/1304 [==============================] - 0s 134us/sample - loss: 0.8577 - accuracy: 0.5567\n",
      "Epoch 35/100\n",
      "1304/1304 [==============================] - 0s 131us/sample - loss: 0.8550 - accuracy: 0.5652\n",
      "Epoch 36/100\n",
      "1304/1304 [==============================] - 0s 137us/sample - loss: 0.8439 - accuracy: 0.5744\n",
      "Epoch 37/100\n",
      "1304/1304 [==============================] - 0s 128us/sample - loss: 0.8554 - accuracy: 0.5690\n",
      "Epoch 38/100\n",
      "1304/1304 [==============================] - 0s 129us/sample - loss: 0.8588 - accuracy: 0.5698\n",
      "Epoch 39/100\n",
      "1304/1304 [==============================] - 0s 107us/sample - loss: 0.8527 - accuracy: 0.5729\n",
      "Epoch 40/100\n",
      "1304/1304 [==============================] - 0s 113us/sample - loss: 0.8630 - accuracy: 0.5460\n",
      "Epoch 41/100\n",
      "1304/1304 [==============================] - 0s 104us/sample - loss: 0.8596 - accuracy: 0.5629\n",
      "Epoch 42/100\n",
      "1304/1304 [==============================] - 0s 97us/sample - loss: 0.8588 - accuracy: 0.5544\n",
      "Epoch 43/100\n",
      "1304/1304 [==============================] - 0s 139us/sample - loss: 0.8607 - accuracy: 0.5736\n",
      "Epoch 44/100\n",
      "1304/1304 [==============================] - 0s 129us/sample - loss: 0.8535 - accuracy: 0.5675\n",
      "Epoch 45/100\n",
      "1304/1304 [==============================] - 0s 95us/sample - loss: 0.8554 - accuracy: 0.5537\n",
      "Epoch 46/100\n",
      "1304/1304 [==============================] - 0s 88us/sample - loss: 0.8555 - accuracy: 0.5560\n",
      "Epoch 47/100\n",
      "1304/1304 [==============================] - 0s 107us/sample - loss: 0.8598 - accuracy: 0.5406\n",
      "Epoch 48/100\n",
      "1304/1304 [==============================] - 0s 103us/sample - loss: 0.8650 - accuracy: 0.5644\n",
      "Epoch 49/100\n",
      "1304/1304 [==============================] - 0s 96us/sample - loss: 0.8619 - accuracy: 0.5629\n",
      "Epoch 50/100\n",
      "1304/1304 [==============================] - 0s 118us/sample - loss: 0.8558 - accuracy: 0.5713\n",
      "Epoch 51/100\n",
      "1304/1304 [==============================] - 0s 83us/sample - loss: 0.8568 - accuracy: 0.5590\n",
      "Epoch 52/100\n",
      "1304/1304 [==============================] - 0s 120us/sample - loss: 0.8611 - accuracy: 0.5598\n",
      "Epoch 53/100\n",
      "1304/1304 [==============================] - 0s 108us/sample - loss: 0.8538 - accuracy: 0.5567\n",
      "Epoch 54/100\n",
      "1304/1304 [==============================] - 0s 122us/sample - loss: 0.8556 - accuracy: 0.5652\n",
      "Epoch 55/100\n",
      "1304/1304 [==============================] - 0s 118us/sample - loss: 0.8567 - accuracy: 0.5521\n",
      "Epoch 56/100\n",
      "1304/1304 [==============================] - 0s 83us/sample - loss: 0.8489 - accuracy: 0.5637\n",
      "Epoch 57/100\n",
      "1304/1304 [==============================] - 0s 81us/sample - loss: 0.8636 - accuracy: 0.5537\n",
      "Epoch 58/100\n",
      "1304/1304 [==============================] - 0s 85us/sample - loss: 0.8559 - accuracy: 0.5613\n",
      "Epoch 59/100\n",
      "1304/1304 [==============================] - 0s 95us/sample - loss: 0.8515 - accuracy: 0.5683\n",
      "Epoch 60/100\n",
      "1304/1304 [==============================] - 0s 105us/sample - loss: 0.8527 - accuracy: 0.5652\n",
      "Epoch 61/100\n",
      "1304/1304 [==============================] - 0s 117us/sample - loss: 0.8563 - accuracy: 0.5644\n",
      "Epoch 62/100\n",
      "1304/1304 [==============================] - 0s 111us/sample - loss: 0.8519 - accuracy: 0.5752\n",
      "Epoch 63/100\n",
      "1304/1304 [==============================] - 0s 108us/sample - loss: 0.8498 - accuracy: 0.5721\n",
      "Epoch 64/100\n",
      "1304/1304 [==============================] - 0s 130us/sample - loss: 0.8543 - accuracy: 0.5521\n",
      "Epoch 65/100\n",
      "1304/1304 [==============================] - 0s 121us/sample - loss: 0.8595 - accuracy: 0.5690\n",
      "Epoch 66/100\n",
      "1304/1304 [==============================] - 0s 124us/sample - loss: 0.8586 - accuracy: 0.5629\n",
      "Epoch 67/100\n",
      "1304/1304 [==============================] - 0s 110us/sample - loss: 0.8648 - accuracy: 0.5491\n",
      "Epoch 68/100\n",
      "1304/1304 [==============================] - 0s 99us/sample - loss: 0.8565 - accuracy: 0.5729\n",
      "Epoch 69/100\n",
      "1304/1304 [==============================] - 0s 105us/sample - loss: 0.8553 - accuracy: 0.5613\n",
      "Epoch 70/100\n",
      "1304/1304 [==============================] - 0s 104us/sample - loss: 0.8565 - accuracy: 0.5567\n",
      "Epoch 71/100\n",
      "1304/1304 [==============================] - 0s 95us/sample - loss: 0.8560 - accuracy: 0.5782\n",
      "Epoch 72/100\n",
      "1304/1304 [==============================] - 0s 99us/sample - loss: 0.8578 - accuracy: 0.5675\n",
      "Epoch 73/100\n",
      "1304/1304 [==============================] - 0s 86us/sample - loss: 0.8548 - accuracy: 0.5667\n",
      "Epoch 74/100\n",
      "1304/1304 [==============================] - 0s 84us/sample - loss: 0.8563 - accuracy: 0.5675\n",
      "Epoch 75/100\n",
      "1304/1304 [==============================] - 0s 101us/sample - loss: 0.8605 - accuracy: 0.5683\n",
      "Epoch 76/100\n",
      "1304/1304 [==============================] - 0s 97us/sample - loss: 0.8489 - accuracy: 0.5598\n",
      "Epoch 77/100\n",
      "1304/1304 [==============================] - 0s 104us/sample - loss: 0.8585 - accuracy: 0.5706\n",
      "Epoch 78/100\n",
      "1304/1304 [==============================] - 0s 103us/sample - loss: 0.8561 - accuracy: 0.5706\n",
      "Epoch 79/100\n",
      "1304/1304 [==============================] - 0s 106us/sample - loss: 0.8529 - accuracy: 0.5644\n",
      "Epoch 80/100\n",
      "1304/1304 [==============================] - 0s 110us/sample - loss: 0.8517 - accuracy: 0.5706\n",
      "Epoch 81/100\n",
      "1304/1304 [==============================] - 0s 77us/sample - loss: 0.8521 - accuracy: 0.5675\n",
      "Epoch 82/100\n",
      "1304/1304 [==============================] - 0s 109us/sample - loss: 0.8573 - accuracy: 0.5667\n",
      "Epoch 83/100\n",
      "1304/1304 [==============================] - 0s 99us/sample - loss: 0.8540 - accuracy: 0.5606\n",
      "Epoch 84/100\n",
      "1304/1304 [==============================] - 0s 111us/sample - loss: 0.8604 - accuracy: 0.5644\n",
      "Epoch 85/100\n",
      "1304/1304 [==============================] - 0s 94us/sample - loss: 0.8558 - accuracy: 0.5629\n",
      "Epoch 86/100\n",
      "1304/1304 [==============================] - 0s 101us/sample - loss: 0.8566 - accuracy: 0.5598\n",
      "Epoch 87/100\n",
      "1304/1304 [==============================] - 0s 120us/sample - loss: 0.8477 - accuracy: 0.5621\n",
      "Epoch 88/100\n",
      "1304/1304 [==============================] - 0s 112us/sample - loss: 0.8565 - accuracy: 0.5583\n",
      "Epoch 89/100\n",
      "1304/1304 [==============================] - 0s 90us/sample - loss: 0.8535 - accuracy: 0.5706\n",
      "Epoch 90/100\n",
      "1304/1304 [==============================] - 0s 107us/sample - loss: 0.8525 - accuracy: 0.5583\n",
      "Epoch 91/100\n",
      "1304/1304 [==============================] - 0s 96us/sample - loss: 0.8521 - accuracy: 0.5698\n",
      "Epoch 92/100\n",
      "1304/1304 [==============================] - 0s 102us/sample - loss: 0.8543 - accuracy: 0.5606\n",
      "Epoch 93/100\n",
      "1304/1304 [==============================] - 0s 105us/sample - loss: 0.8499 - accuracy: 0.5805\n",
      "Epoch 94/100\n",
      "1304/1304 [==============================] - 0s 102us/sample - loss: 0.8568 - accuracy: 0.5683\n",
      "Epoch 95/100\n",
      "1304/1304 [==============================] - 0s 100us/sample - loss: 0.8485 - accuracy: 0.5598\n",
      "Epoch 96/100\n",
      "1304/1304 [==============================] - 0s 107us/sample - loss: 0.8541 - accuracy: 0.5644\n",
      "Epoch 97/100\n",
      "1304/1304 [==============================] - 0s 115us/sample - loss: 0.8464 - accuracy: 0.5721\n",
      "Epoch 98/100\n",
      "1304/1304 [==============================] - 0s 74us/sample - loss: 0.8506 - accuracy: 0.5767\n",
      "Epoch 99/100\n",
      "1304/1304 [==============================] - 0s 112us/sample - loss: 0.8456 - accuracy: 0.5729\n",
      "Epoch 100/100\n",
      "1304/1304 [==============================] - 0s 108us/sample - loss: 0.8468 - accuracy: 0.5621\n",
      "Train on 48073 samples\n",
      "Epoch 1/100\n",
      "48073/48073 [==============================] - 4s 89us/sample - loss: 0.9751 - accuracy: 0.4798\n",
      "Epoch 2/100\n",
      "48073/48073 [==============================] - 5s 103us/sample - loss: 0.9753 - accuracy: 0.4808\n",
      "Epoch 3/100\n",
      "40960/48073 [========================>.....] - ETA: 0s - loss: 0.9728 - accuracy: 0.4793"
     ]
    },
    {
     "ename": "KeyboardInterrupt",
     "evalue": "",
     "output_type": "error",
     "traceback": [
      "\u001b[0;31m---------------------------------------------------------------------------\u001b[0m",
      "\u001b[0;31mKeyboardInterrupt\u001b[0m                         Traceback (most recent call last)",
      "\u001b[0;32m<ipython-input-403-723a63d52fa5>\u001b[0m in \u001b[0;36m<module>\u001b[0;34m\u001b[0m\n\u001b[0;32m----> 1\u001b[0;31m \u001b[0;34m[\u001b[0m\u001b[0mNNs\u001b[0m\u001b[0;34m[\u001b[0m\u001b[0mnnet\u001b[0m\u001b[0;34m]\u001b[0m\u001b[0;34m.\u001b[0m\u001b[0mmodel\u001b[0m\u001b[0;34m.\u001b[0m\u001b[0mfit\u001b[0m\u001b[0;34m(\u001b[0m\u001b[0mtrain_data\u001b[0m\u001b[0;34m[\u001b[0m\u001b[0mnnet\u001b[0m\u001b[0;34m]\u001b[0m\u001b[0;34m[\u001b[0m\u001b[0;36m0\u001b[0m\u001b[0;34m]\u001b[0m\u001b[0;34m,\u001b[0m\u001b[0mtrain_data\u001b[0m\u001b[0;34m[\u001b[0m\u001b[0mnnet\u001b[0m\u001b[0;34m]\u001b[0m\u001b[0;34m[\u001b[0m\u001b[0;36m2\u001b[0m\u001b[0;34m]\u001b[0m\u001b[0;34m,\u001b[0m\u001b[0;36m1024\u001b[0m\u001b[0;34m,\u001b[0m\u001b[0;36m100\u001b[0m\u001b[0;34m,\u001b[0m\u001b[0muse_multiprocessing\u001b[0m\u001b[0;34m=\u001b[0m\u001b[0;32mTrue\u001b[0m\u001b[0;34m,\u001b[0m\u001b[0mworkers\u001b[0m\u001b[0;34m=\u001b[0m\u001b[0;36m4\u001b[0m\u001b[0;34m)\u001b[0m \u001b[0;32mfor\u001b[0m \u001b[0mnnet\u001b[0m \u001b[0;32min\u001b[0m \u001b[0mrange\u001b[0m\u001b[0;34m(\u001b[0m\u001b[0;36m5\u001b[0m\u001b[0;34m)\u001b[0m\u001b[0;34m]\u001b[0m\u001b[0;34m\u001b[0m\u001b[0;34m\u001b[0m\u001b[0m\n\u001b[0m",
      "\u001b[0;32m<ipython-input-403-723a63d52fa5>\u001b[0m in \u001b[0;36m<listcomp>\u001b[0;34m(.0)\u001b[0m\n\u001b[0;32m----> 1\u001b[0;31m \u001b[0;34m[\u001b[0m\u001b[0mNNs\u001b[0m\u001b[0;34m[\u001b[0m\u001b[0mnnet\u001b[0m\u001b[0;34m]\u001b[0m\u001b[0;34m.\u001b[0m\u001b[0mmodel\u001b[0m\u001b[0;34m.\u001b[0m\u001b[0mfit\u001b[0m\u001b[0;34m(\u001b[0m\u001b[0mtrain_data\u001b[0m\u001b[0;34m[\u001b[0m\u001b[0mnnet\u001b[0m\u001b[0;34m]\u001b[0m\u001b[0;34m[\u001b[0m\u001b[0;36m0\u001b[0m\u001b[0;34m]\u001b[0m\u001b[0;34m,\u001b[0m\u001b[0mtrain_data\u001b[0m\u001b[0;34m[\u001b[0m\u001b[0mnnet\u001b[0m\u001b[0;34m]\u001b[0m\u001b[0;34m[\u001b[0m\u001b[0;36m2\u001b[0m\u001b[0;34m]\u001b[0m\u001b[0;34m,\u001b[0m\u001b[0;36m1024\u001b[0m\u001b[0;34m,\u001b[0m\u001b[0;36m100\u001b[0m\u001b[0;34m,\u001b[0m\u001b[0muse_multiprocessing\u001b[0m\u001b[0;34m=\u001b[0m\u001b[0;32mTrue\u001b[0m\u001b[0;34m,\u001b[0m\u001b[0mworkers\u001b[0m\u001b[0;34m=\u001b[0m\u001b[0;36m4\u001b[0m\u001b[0;34m)\u001b[0m \u001b[0;32mfor\u001b[0m \u001b[0mnnet\u001b[0m \u001b[0;32min\u001b[0m \u001b[0mrange\u001b[0m\u001b[0;34m(\u001b[0m\u001b[0;36m5\u001b[0m\u001b[0;34m)\u001b[0m\u001b[0;34m]\u001b[0m\u001b[0;34m\u001b[0m\u001b[0;34m\u001b[0m\u001b[0m\n\u001b[0m",
      "\u001b[0;32m~/anaconda3/lib/python3.7/site-packages/tensorflow_core/python/keras/engine/training.py\u001b[0m in \u001b[0;36mfit\u001b[0;34m(self, x, y, batch_size, epochs, verbose, callbacks, validation_split, validation_data, shuffle, class_weight, sample_weight, initial_epoch, steps_per_epoch, validation_steps, validation_freq, max_queue_size, workers, use_multiprocessing, **kwargs)\u001b[0m\n\u001b[1;32m    817\u001b[0m         \u001b[0mmax_queue_size\u001b[0m\u001b[0;34m=\u001b[0m\u001b[0mmax_queue_size\u001b[0m\u001b[0;34m,\u001b[0m\u001b[0;34m\u001b[0m\u001b[0;34m\u001b[0m\u001b[0m\n\u001b[1;32m    818\u001b[0m         \u001b[0mworkers\u001b[0m\u001b[0;34m=\u001b[0m\u001b[0mworkers\u001b[0m\u001b[0;34m,\u001b[0m\u001b[0;34m\u001b[0m\u001b[0;34m\u001b[0m\u001b[0m\n\u001b[0;32m--> 819\u001b[0;31m         use_multiprocessing=use_multiprocessing)\n\u001b[0m\u001b[1;32m    820\u001b[0m \u001b[0;34m\u001b[0m\u001b[0m\n\u001b[1;32m    821\u001b[0m   def evaluate(self,\n",
      "\u001b[0;32m~/anaconda3/lib/python3.7/site-packages/tensorflow_core/python/keras/engine/training_v2.py\u001b[0m in \u001b[0;36mfit\u001b[0;34m(self, model, x, y, batch_size, epochs, verbose, callbacks, validation_split, validation_data, shuffle, class_weight, sample_weight, initial_epoch, steps_per_epoch, validation_steps, validation_freq, max_queue_size, workers, use_multiprocessing, **kwargs)\u001b[0m\n\u001b[1;32m    340\u001b[0m                 \u001b[0mmode\u001b[0m\u001b[0;34m=\u001b[0m\u001b[0mModeKeys\u001b[0m\u001b[0;34m.\u001b[0m\u001b[0mTRAIN\u001b[0m\u001b[0;34m,\u001b[0m\u001b[0;34m\u001b[0m\u001b[0;34m\u001b[0m\u001b[0m\n\u001b[1;32m    341\u001b[0m                 \u001b[0mtraining_context\u001b[0m\u001b[0;34m=\u001b[0m\u001b[0mtraining_context\u001b[0m\u001b[0;34m,\u001b[0m\u001b[0;34m\u001b[0m\u001b[0;34m\u001b[0m\u001b[0m\n\u001b[0;32m--> 342\u001b[0;31m                 total_epochs=epochs)\n\u001b[0m\u001b[1;32m    343\u001b[0m             \u001b[0mcbks\u001b[0m\u001b[0;34m.\u001b[0m\u001b[0mmake_logs\u001b[0m\u001b[0;34m(\u001b[0m\u001b[0mmodel\u001b[0m\u001b[0;34m,\u001b[0m \u001b[0mepoch_logs\u001b[0m\u001b[0;34m,\u001b[0m \u001b[0mtraining_result\u001b[0m\u001b[0;34m,\u001b[0m \u001b[0mModeKeys\u001b[0m\u001b[0;34m.\u001b[0m\u001b[0mTRAIN\u001b[0m\u001b[0;34m)\u001b[0m\u001b[0;34m\u001b[0m\u001b[0;34m\u001b[0m\u001b[0m\n\u001b[1;32m    344\u001b[0m \u001b[0;34m\u001b[0m\u001b[0m\n",
      "\u001b[0;32m~/anaconda3/lib/python3.7/site-packages/tensorflow_core/python/keras/engine/training_v2.py\u001b[0m in \u001b[0;36mrun_one_epoch\u001b[0;34m(model, iterator, execution_function, dataset_size, batch_size, strategy, steps_per_epoch, num_samples, mode, training_context, total_epochs)\u001b[0m\n\u001b[1;32m    126\u001b[0m         step=step, mode=mode, size=current_batch_size) as batch_logs:\n\u001b[1;32m    127\u001b[0m       \u001b[0;32mtry\u001b[0m\u001b[0;34m:\u001b[0m\u001b[0;34m\u001b[0m\u001b[0;34m\u001b[0m\u001b[0m\n\u001b[0;32m--> 128\u001b[0;31m         \u001b[0mbatch_outs\u001b[0m \u001b[0;34m=\u001b[0m \u001b[0mexecution_function\u001b[0m\u001b[0;34m(\u001b[0m\u001b[0miterator\u001b[0m\u001b[0;34m)\u001b[0m\u001b[0;34m\u001b[0m\u001b[0;34m\u001b[0m\u001b[0m\n\u001b[0m\u001b[1;32m    129\u001b[0m       \u001b[0;32mexcept\u001b[0m \u001b[0;34m(\u001b[0m\u001b[0mStopIteration\u001b[0m\u001b[0;34m,\u001b[0m \u001b[0merrors\u001b[0m\u001b[0;34m.\u001b[0m\u001b[0mOutOfRangeError\u001b[0m\u001b[0;34m)\u001b[0m\u001b[0;34m:\u001b[0m\u001b[0;34m\u001b[0m\u001b[0;34m\u001b[0m\u001b[0m\n\u001b[1;32m    130\u001b[0m         \u001b[0;31m# TODO(kaftan): File bug about tf function and errors.OutOfRangeError?\u001b[0m\u001b[0;34m\u001b[0m\u001b[0;34m\u001b[0m\u001b[0;34m\u001b[0m\u001b[0m\n",
      "\u001b[0;32m~/anaconda3/lib/python3.7/site-packages/tensorflow_core/python/keras/engine/training_v2_utils.py\u001b[0m in \u001b[0;36mexecution_function\u001b[0;34m(input_fn)\u001b[0m\n\u001b[1;32m     96\u001b[0m     \u001b[0;31m# `numpy` translates Tensors to values in Eager mode.\u001b[0m\u001b[0;34m\u001b[0m\u001b[0;34m\u001b[0m\u001b[0;34m\u001b[0m\u001b[0m\n\u001b[1;32m     97\u001b[0m     return nest.map_structure(_non_none_constant_value,\n\u001b[0;32m---> 98\u001b[0;31m                               distributed_function(input_fn))\n\u001b[0m\u001b[1;32m     99\u001b[0m \u001b[0;34m\u001b[0m\u001b[0m\n\u001b[1;32m    100\u001b[0m   \u001b[0;32mreturn\u001b[0m \u001b[0mexecution_function\u001b[0m\u001b[0;34m\u001b[0m\u001b[0;34m\u001b[0m\u001b[0m\n",
      "\u001b[0;32m~/anaconda3/lib/python3.7/site-packages/tensorflow_core/python/eager/def_function.py\u001b[0m in \u001b[0;36m__call__\u001b[0;34m(self, *args, **kwds)\u001b[0m\n\u001b[1;32m    566\u001b[0m         \u001b[0mxla_context\u001b[0m\u001b[0;34m.\u001b[0m\u001b[0mExit\u001b[0m\u001b[0;34m(\u001b[0m\u001b[0;34m)\u001b[0m\u001b[0;34m\u001b[0m\u001b[0;34m\u001b[0m\u001b[0m\n\u001b[1;32m    567\u001b[0m     \u001b[0;32melse\u001b[0m\u001b[0;34m:\u001b[0m\u001b[0;34m\u001b[0m\u001b[0;34m\u001b[0m\u001b[0m\n\u001b[0;32m--> 568\u001b[0;31m       \u001b[0mresult\u001b[0m \u001b[0;34m=\u001b[0m \u001b[0mself\u001b[0m\u001b[0;34m.\u001b[0m\u001b[0m_call\u001b[0m\u001b[0;34m(\u001b[0m\u001b[0;34m*\u001b[0m\u001b[0margs\u001b[0m\u001b[0;34m,\u001b[0m \u001b[0;34m**\u001b[0m\u001b[0mkwds\u001b[0m\u001b[0;34m)\u001b[0m\u001b[0;34m\u001b[0m\u001b[0;34m\u001b[0m\u001b[0m\n\u001b[0m\u001b[1;32m    569\u001b[0m \u001b[0;34m\u001b[0m\u001b[0m\n\u001b[1;32m    570\u001b[0m     \u001b[0;32mif\u001b[0m \u001b[0mtracing_count\u001b[0m \u001b[0;34m==\u001b[0m \u001b[0mself\u001b[0m\u001b[0;34m.\u001b[0m\u001b[0m_get_tracing_count\u001b[0m\u001b[0;34m(\u001b[0m\u001b[0;34m)\u001b[0m\u001b[0;34m:\u001b[0m\u001b[0;34m\u001b[0m\u001b[0;34m\u001b[0m\u001b[0m\n",
      "\u001b[0;32m~/anaconda3/lib/python3.7/site-packages/tensorflow_core/python/eager/def_function.py\u001b[0m in \u001b[0;36m_call\u001b[0;34m(self, *args, **kwds)\u001b[0m\n\u001b[1;32m    597\u001b[0m       \u001b[0;31m# In this case we have created variables on the first call, so we run the\u001b[0m\u001b[0;34m\u001b[0m\u001b[0;34m\u001b[0m\u001b[0;34m\u001b[0m\u001b[0m\n\u001b[1;32m    598\u001b[0m       \u001b[0;31m# defunned version which is guaranteed to never create variables.\u001b[0m\u001b[0;34m\u001b[0m\u001b[0;34m\u001b[0m\u001b[0;34m\u001b[0m\u001b[0m\n\u001b[0;32m--> 599\u001b[0;31m       \u001b[0;32mreturn\u001b[0m \u001b[0mself\u001b[0m\u001b[0;34m.\u001b[0m\u001b[0m_stateless_fn\u001b[0m\u001b[0;34m(\u001b[0m\u001b[0;34m*\u001b[0m\u001b[0margs\u001b[0m\u001b[0;34m,\u001b[0m \u001b[0;34m**\u001b[0m\u001b[0mkwds\u001b[0m\u001b[0;34m)\u001b[0m  \u001b[0;31m# pylint: disable=not-callable\u001b[0m\u001b[0;34m\u001b[0m\u001b[0;34m\u001b[0m\u001b[0m\n\u001b[0m\u001b[1;32m    600\u001b[0m     \u001b[0;32melif\u001b[0m \u001b[0mself\u001b[0m\u001b[0;34m.\u001b[0m\u001b[0m_stateful_fn\u001b[0m \u001b[0;32mis\u001b[0m \u001b[0;32mnot\u001b[0m \u001b[0;32mNone\u001b[0m\u001b[0;34m:\u001b[0m\u001b[0;34m\u001b[0m\u001b[0;34m\u001b[0m\u001b[0m\n\u001b[1;32m    601\u001b[0m       \u001b[0;31m# Release the lock early so that multiple threads can perform the call\u001b[0m\u001b[0;34m\u001b[0m\u001b[0;34m\u001b[0m\u001b[0;34m\u001b[0m\u001b[0m\n",
      "\u001b[0;32m~/anaconda3/lib/python3.7/site-packages/tensorflow_core/python/eager/function.py\u001b[0m in \u001b[0;36m__call__\u001b[0;34m(self, *args, **kwargs)\u001b[0m\n\u001b[1;32m   2361\u001b[0m     \u001b[0;32mwith\u001b[0m \u001b[0mself\u001b[0m\u001b[0;34m.\u001b[0m\u001b[0m_lock\u001b[0m\u001b[0;34m:\u001b[0m\u001b[0;34m\u001b[0m\u001b[0;34m\u001b[0m\u001b[0m\n\u001b[1;32m   2362\u001b[0m       \u001b[0mgraph_function\u001b[0m\u001b[0;34m,\u001b[0m \u001b[0margs\u001b[0m\u001b[0;34m,\u001b[0m \u001b[0mkwargs\u001b[0m \u001b[0;34m=\u001b[0m \u001b[0mself\u001b[0m\u001b[0;34m.\u001b[0m\u001b[0m_maybe_define_function\u001b[0m\u001b[0;34m(\u001b[0m\u001b[0margs\u001b[0m\u001b[0;34m,\u001b[0m \u001b[0mkwargs\u001b[0m\u001b[0;34m)\u001b[0m\u001b[0;34m\u001b[0m\u001b[0;34m\u001b[0m\u001b[0m\n\u001b[0;32m-> 2363\u001b[0;31m     \u001b[0;32mreturn\u001b[0m \u001b[0mgraph_function\u001b[0m\u001b[0;34m.\u001b[0m\u001b[0m_filtered_call\u001b[0m\u001b[0;34m(\u001b[0m\u001b[0margs\u001b[0m\u001b[0;34m,\u001b[0m \u001b[0mkwargs\u001b[0m\u001b[0;34m)\u001b[0m  \u001b[0;31m# pylint: disable=protected-access\u001b[0m\u001b[0;34m\u001b[0m\u001b[0;34m\u001b[0m\u001b[0m\n\u001b[0m\u001b[1;32m   2364\u001b[0m \u001b[0;34m\u001b[0m\u001b[0m\n\u001b[1;32m   2365\u001b[0m   \u001b[0;34m@\u001b[0m\u001b[0mproperty\u001b[0m\u001b[0;34m\u001b[0m\u001b[0;34m\u001b[0m\u001b[0m\n",
      "\u001b[0;32m~/anaconda3/lib/python3.7/site-packages/tensorflow_core/python/eager/function.py\u001b[0m in \u001b[0;36m_filtered_call\u001b[0;34m(self, args, kwargs)\u001b[0m\n\u001b[1;32m   1609\u001b[0m          if isinstance(t, (ops.Tensor,\n\u001b[1;32m   1610\u001b[0m                            resource_variable_ops.BaseResourceVariable))),\n\u001b[0;32m-> 1611\u001b[0;31m         self.captured_inputs)\n\u001b[0m\u001b[1;32m   1612\u001b[0m \u001b[0;34m\u001b[0m\u001b[0m\n\u001b[1;32m   1613\u001b[0m   \u001b[0;32mdef\u001b[0m \u001b[0m_call_flat\u001b[0m\u001b[0;34m(\u001b[0m\u001b[0mself\u001b[0m\u001b[0;34m,\u001b[0m \u001b[0margs\u001b[0m\u001b[0;34m,\u001b[0m \u001b[0mcaptured_inputs\u001b[0m\u001b[0;34m,\u001b[0m \u001b[0mcancellation_manager\u001b[0m\u001b[0;34m=\u001b[0m\u001b[0;32mNone\u001b[0m\u001b[0;34m)\u001b[0m\u001b[0;34m:\u001b[0m\u001b[0;34m\u001b[0m\u001b[0;34m\u001b[0m\u001b[0m\n",
      "\u001b[0;32m~/anaconda3/lib/python3.7/site-packages/tensorflow_core/python/eager/function.py\u001b[0m in \u001b[0;36m_call_flat\u001b[0;34m(self, args, captured_inputs, cancellation_manager)\u001b[0m\n\u001b[1;32m   1690\u001b[0m       \u001b[0;31m# No tape is watching; skip to running the function.\u001b[0m\u001b[0;34m\u001b[0m\u001b[0;34m\u001b[0m\u001b[0;34m\u001b[0m\u001b[0m\n\u001b[1;32m   1691\u001b[0m       return self._build_call_outputs(self._inference_function.call(\n\u001b[0;32m-> 1692\u001b[0;31m           ctx, args, cancellation_manager=cancellation_manager))\n\u001b[0m\u001b[1;32m   1693\u001b[0m     forward_backward = self._select_forward_and_backward_functions(\n\u001b[1;32m   1694\u001b[0m         \u001b[0margs\u001b[0m\u001b[0;34m,\u001b[0m\u001b[0;34m\u001b[0m\u001b[0;34m\u001b[0m\u001b[0m\n",
      "\u001b[0;32m~/anaconda3/lib/python3.7/site-packages/tensorflow_core/python/eager/function.py\u001b[0m in \u001b[0;36mcall\u001b[0;34m(self, ctx, args, cancellation_manager)\u001b[0m\n\u001b[1;32m    543\u001b[0m               \u001b[0minputs\u001b[0m\u001b[0;34m=\u001b[0m\u001b[0margs\u001b[0m\u001b[0;34m,\u001b[0m\u001b[0;34m\u001b[0m\u001b[0;34m\u001b[0m\u001b[0m\n\u001b[1;32m    544\u001b[0m               \u001b[0mattrs\u001b[0m\u001b[0;34m=\u001b[0m\u001b[0;34m(\u001b[0m\u001b[0;34m\"executor_type\"\u001b[0m\u001b[0;34m,\u001b[0m \u001b[0mexecutor_type\u001b[0m\u001b[0;34m,\u001b[0m \u001b[0;34m\"config_proto\"\u001b[0m\u001b[0;34m,\u001b[0m \u001b[0mconfig\u001b[0m\u001b[0;34m)\u001b[0m\u001b[0;34m,\u001b[0m\u001b[0;34m\u001b[0m\u001b[0;34m\u001b[0m\u001b[0m\n\u001b[0;32m--> 545\u001b[0;31m               ctx=ctx)\n\u001b[0m\u001b[1;32m    546\u001b[0m         \u001b[0;32melse\u001b[0m\u001b[0;34m:\u001b[0m\u001b[0;34m\u001b[0m\u001b[0;34m\u001b[0m\u001b[0m\n\u001b[1;32m    547\u001b[0m           outputs = execute.execute_with_cancellation(\n",
      "\u001b[0;32m~/anaconda3/lib/python3.7/site-packages/tensorflow_core/python/eager/execute.py\u001b[0m in \u001b[0;36mquick_execute\u001b[0;34m(op_name, num_outputs, inputs, attrs, ctx, name)\u001b[0m\n\u001b[1;32m     59\u001b[0m     tensors = pywrap_tensorflow.TFE_Py_Execute(ctx._handle, device_name,\n\u001b[1;32m     60\u001b[0m                                                \u001b[0mop_name\u001b[0m\u001b[0;34m,\u001b[0m \u001b[0minputs\u001b[0m\u001b[0;34m,\u001b[0m \u001b[0mattrs\u001b[0m\u001b[0;34m,\u001b[0m\u001b[0;34m\u001b[0m\u001b[0;34m\u001b[0m\u001b[0m\n\u001b[0;32m---> 61\u001b[0;31m                                                num_outputs)\n\u001b[0m\u001b[1;32m     62\u001b[0m   \u001b[0;32mexcept\u001b[0m \u001b[0mcore\u001b[0m\u001b[0;34m.\u001b[0m\u001b[0m_NotOkStatusException\u001b[0m \u001b[0;32mas\u001b[0m \u001b[0me\u001b[0m\u001b[0;34m:\u001b[0m\u001b[0;34m\u001b[0m\u001b[0;34m\u001b[0m\u001b[0m\n\u001b[1;32m     63\u001b[0m     \u001b[0;32mif\u001b[0m \u001b[0mname\u001b[0m \u001b[0;32mis\u001b[0m \u001b[0;32mnot\u001b[0m \u001b[0;32mNone\u001b[0m\u001b[0;34m:\u001b[0m\u001b[0;34m\u001b[0m\u001b[0;34m\u001b[0m\u001b[0m\n",
      "\u001b[0;31mKeyboardInterrupt\u001b[0m: "
     ]
    }
   ],
   "source": [
    "[NNs[nnet].model.fit(train_data[nnet][0],train_data[nnet][2],1024,100,use_multiprocessing=True,workers=4) for nnet in range(5)]"
   ]
  },
  {
   "cell_type": "code",
   "execution_count": 313,
   "metadata": {},
   "outputs": [
    {
     "name": "stdout",
     "output_type": "stream",
     "text": [
      "327/327 [==============================] - 0s 578us/sample - loss: 1.5308 - accuracy: 0.4587\n",
      "12019/12019 [==============================] - 2s 203us/sample - loss: 1.0419 - accuracy: 0.4745\n",
      "5/5 [==============================] - 0s 27ms/sample - loss: 54.5100 - accuracy: 0.8000\n",
      "7559/7559 [==============================] - 3s 367us/sample - loss: 0.9736 - accuracy: 0.5282\n",
      "1105/1105 [==============================] - 1s 684us/sample - loss: 1.2418 - accuracy: 0.4697\n"
     ]
    },
    {
     "data": {
      "text/plain": [
       "[[1.5308253961965579, 0.4587156],\n",
       " [1.041881614451857, 0.47449872],\n",
       " [54.509979248046875, 0.8],\n",
       " [0.9736499668019272, 0.5282445],\n",
       " [1.2418334032075977, 0.46968326]]"
      ]
     },
     "execution_count": 313,
     "metadata": {},
     "output_type": "execute_result"
    }
   ],
   "source": [
    "[NNs[nnet].model.evaluate(train_data[nnet][1],train_data[nnet][3]) for nnet in range(5)]"
   ]
  },
  {
   "cell_type": "code",
   "execution_count": 302,
   "metadata": {},
   "outputs": [
    {
     "data": {
      "text/plain": [
       "0.2333950450356749"
      ]
     },
     "execution_count": 302,
     "metadata": {},
     "output_type": "execute_result"
    }
   ],
   "source": [
    "(train_data[nnet][2]==2).sum()/train_data[nnet][2].shape[0]"
   ]
  },
  {
   "cell_type": "code",
   "execution_count": 329,
   "metadata": {},
   "outputs": [
    {
     "name": "stdout",
     "output_type": "stream",
     "text": [
      "26264\r"
     ]
    }
   ],
   "source": [
    "n = x_test_send.shape[0]\n",
    "examTestD = [[] for i in range(5)]\n",
    "for i in range(n):\n",
    "    print(i,end='\\r')\n",
    "    test = x_test_send.iloc[i]\n",
    "    stud = students_in[students_in['STD_ID']==test[1]].iloc[0]\n",
    "    tt = testtypesconverter.get(test[6],0)\n",
    "    gnd = gender.get(stud[1],0)\n",
    "    term = int(test[5]-1)\n",
    "    crs = dirConvert.get(test[2][:8],0)\n",
    "    ctg = category.get(stud[5],0)\n",
    "    tped = typeofed.get(stud[10],0)\n",
    "    ind = test[0]\n",
    "    iden = np.identity\n",
    "    case = np.concatenate([iden(2)[gnd],iden(12)[term],iden(55)[crs],iden(2)[ctg],iden(7)[tped],iden(1)[0]*ind])\n",
    "    examTestD[tt].append(case)"
   ]
  },
  {
   "cell_type": "code",
   "execution_count": 330,
   "metadata": {},
   "outputs": [],
   "source": [
    "for nnet in range(5):\n",
    "    examTestD[nnet] = np.array(examTestD[nnet])"
   ]
  },
  {
   "cell_type": "code",
   "execution_count": 377,
   "metadata": {},
   "outputs": [
    {
     "data": {
      "text/plain": [
       "array([[1.0000e+00, 0.0000e+00, 0.0000e+00, 0.0000e+00, 0.0000e+00,\n",
       "        0.0000e+00, 1.0000e+00, 0.0000e+00, 0.0000e+00, 0.0000e+00,\n",
       "        0.0000e+00, 0.0000e+00, 0.0000e+00, 0.0000e+00, 0.0000e+00,\n",
       "        0.0000e+00, 0.0000e+00, 0.0000e+00, 0.0000e+00, 0.0000e+00,\n",
       "        0.0000e+00, 0.0000e+00, 0.0000e+00, 0.0000e+00, 0.0000e+00,\n",
       "        0.0000e+00, 0.0000e+00, 0.0000e+00, 0.0000e+00, 0.0000e+00,\n",
       "        0.0000e+00, 0.0000e+00, 0.0000e+00, 0.0000e+00, 0.0000e+00,\n",
       "        0.0000e+00, 0.0000e+00, 0.0000e+00, 0.0000e+00, 0.0000e+00,\n",
       "        0.0000e+00, 0.0000e+00, 0.0000e+00, 1.0000e+00, 0.0000e+00,\n",
       "        0.0000e+00, 0.0000e+00, 0.0000e+00, 0.0000e+00, 0.0000e+00,\n",
       "        0.0000e+00, 0.0000e+00, 0.0000e+00, 0.0000e+00, 0.0000e+00,\n",
       "        0.0000e+00, 0.0000e+00, 0.0000e+00, 0.0000e+00, 0.0000e+00,\n",
       "        0.0000e+00, 0.0000e+00, 0.0000e+00, 0.0000e+00, 0.0000e+00,\n",
       "        0.0000e+00, 0.0000e+00, 0.0000e+00, 0.0000e+00, 1.0000e+00,\n",
       "        0.0000e+00, 0.0000e+00, 0.0000e+00, 0.0000e+00, 0.0000e+00,\n",
       "        1.0000e+00, 0.0000e+00, 0.0000e+00, 5.6065e+04]])"
      ]
     },
     "execution_count": 377,
     "metadata": {},
     "output_type": "execute_result"
    }
   ],
   "source": [
    "examTestD[3][examTestD[3][:,-1]==56065]"
   ]
  },
  {
   "cell_type": "code",
   "execution_count": 392,
   "metadata": {},
   "outputs": [],
   "source": [
    "predict_save = []\n",
    "for nnet in range(5):\n",
    "    predict_save.append(NNs[nnet].model.predict(examTestD[nnet][:,:-1]))\n",
    "    "
   ]
  },
  {
   "cell_type": "code",
   "execution_count": 393,
   "metadata": {},
   "outputs": [
    {
     "data": {
      "text/plain": [
       "(1, 438)"
      ]
     },
     "execution_count": 393,
     "metadata": {},
     "output_type": "execute_result"
    }
   ],
   "source": [
    "predict_save[0].argmax(axis=1).reshape((1,predict_save[0].shape[0])).shape"
   ]
  },
  {
   "cell_type": "code",
   "execution_count": 394,
   "metadata": {},
   "outputs": [
    {
     "data": {
      "text/plain": [
       "(438, 1)"
      ]
     },
     "execution_count": 394,
     "metadata": {},
     "output_type": "execute_result"
    }
   ],
   "source": [
    "examTestD[0][:,-1:].shape"
   ]
  },
  {
   "cell_type": "code",
   "execution_count": 395,
   "metadata": {},
   "outputs": [],
   "source": [
    "predict_save_vals = np.concatenate([np.concatenate([examTestD[i][:,-1:],np.array([predict_save[i].argmax(axis=1)]).T],axis=1) for i in range(5)],axis=0)"
   ]
  },
  {
   "cell_type": "code",
   "execution_count": 396,
   "metadata": {},
   "outputs": [],
   "source": [
    "predict_save_vals[:,1]+=3"
   ]
  },
  {
   "cell_type": "code",
   "execution_count": 397,
   "metadata": {},
   "outputs": [],
   "source": [
    "predict_save_vals = predict_save_vals.astype(int)"
   ]
  },
  {
   "cell_type": "code",
   "execution_count": 398,
   "metadata": {},
   "outputs": [
    {
     "data": {
      "text/plain": [
       "(26265, 2)"
      ]
     },
     "execution_count": 398,
     "metadata": {},
     "output_type": "execute_result"
    }
   ],
   "source": [
    "predict_save_vals.shape"
   ]
  },
  {
   "cell_type": "code",
   "execution_count": 399,
   "metadata": {},
   "outputs": [
    {
     "data": {
      "text/plain": [
       "array([[56065,     4]])"
      ]
     },
     "execution_count": 399,
     "metadata": {},
     "output_type": "execute_result"
    }
   ],
   "source": [
    "predict_save_vals[predict_save_vals[:,0]==56065]"
   ]
  },
  {
   "cell_type": "code",
   "execution_count": 400,
   "metadata": {},
   "outputs": [],
   "source": [
    "predictDf = pd.DataFrame(predict_save_vals,columns=['index','mark'])\n",
    "predictDf.to_csv('FirstAttemptPrediction.csv',index=False)"
   ]
  },
  {
   "cell_type": "code",
   "execution_count": 401,
   "metadata": {},
   "outputs": [
    {
     "data": {
      "text/html": [
       "<div>\n",
       "<style scoped>\n",
       "    .dataframe tbody tr th:only-of-type {\n",
       "        vertical-align: middle;\n",
       "    }\n",
       "\n",
       "    .dataframe tbody tr th {\n",
       "        vertical-align: top;\n",
       "    }\n",
       "\n",
       "    .dataframe thead th {\n",
       "        text-align: right;\n",
       "    }\n",
       "</style>\n",
       "<table border=\"1\" class=\"dataframe\">\n",
       "  <thead>\n",
       "    <tr style=\"text-align: right;\">\n",
       "      <th></th>\n",
       "      <th>index</th>\n",
       "      <th>mark</th>\n",
       "    </tr>\n",
       "  </thead>\n",
       "  <tbody>\n",
       "    <tr>\n",
       "      <th>15386</th>\n",
       "      <td>56065</td>\n",
       "      <td>4</td>\n",
       "    </tr>\n",
       "  </tbody>\n",
       "</table>\n",
       "</div>"
      ],
      "text/plain": [
       "       index  mark\n",
       "15386  56065     4"
      ]
     },
     "execution_count": 401,
     "metadata": {},
     "output_type": "execute_result"
    }
   ],
   "source": [
    "predictDf[predictDf['index']==56065]"
   ]
  }
 ],
 "metadata": {
  "kernelspec": {
   "display_name": "Python 3",
   "language": "python",
   "name": "python3"
  },
  "language_info": {
   "codemirror_mode": {
    "name": "ipython",
    "version": 3
   },
   "file_extension": ".py",
   "mimetype": "text/x-python",
   "name": "python",
   "nbconvert_exporter": "python",
   "pygments_lexer": "ipython3",
   "version": "3.7.6"
  }
 },
 "nbformat": 4,
 "nbformat_minor": 4
}
