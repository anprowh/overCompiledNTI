{
 "cells": [
  {
   "cell_type": "code",
   "execution_count": 1,
   "metadata": {},
   "outputs": [],
   "source": [
    "import pandas as pd\n",
    "import numpy as np\n",
    "from sklearn.model_selection import cross_val_score\n",
    "from sklearn.svm import SVC\n",
    "from sklearn.model_selection import train_test_split\n",
    "from sklearn.neighbors import KNeighborsClassifier\n",
    "from sklearn.ensemble import RandomForestClassifier\n",
    "from sklearn.linear_model import LogisticRegression\n",
    "from sklearn.preprocessing import LabelEncoder\n",
    "l = LabelEncoder()\n",
    "\n",
    "#Загружаем\n",
    "sample_sub = pd.read_csv(\"sample_submission.csv\")\n",
    "studs_info = pd.read_csv(\"studs_info.csv\")\n",
    "train = pd.read_csv(\"X_train.csv\")\n",
    "target = pd.read_csv(\"y_train.csv\")\n",
    "test = pd.read_csv(\"X_test.csv\")\n",
    "\n",
    "\n",
    "#Деление на шифр и направление\n",
    "s = train[\"STD_ID\"].size\n",
    "code = []\n",
    "direct = []\n",
    "for i in range(s):\n",
    "    code_temp, direct_temp = train[\"НАПРАВЛЕНИЕ\"].values[i].split(\" \",1)\n",
    "    code.append(code_temp)\n",
    "    direct.append(direct_temp)\n",
    "train[\"НАПРАВЛЕНИЕ\"] = pd.Series(direct).values\n",
    "train[\"ШИФР\"] = pd.Series(code).values\n",
    "\n",
    "#Замена числами\n",
    "l.fit(train[\"АТТЕСТАЦИЯ\"])\n",
    "train[\"АТТЕСТАЦИЯ\"] = l.transform(train[\"АТТЕСТАЦИЯ\"])\n",
    "l.fit(train[\"ДИСЦИПЛИНА\"])\n",
    "train[\"ДИСЦИПЛИНА\"] = l.transform(train[\"ДИСЦИПЛИНА\"])\n",
    "l.fit(train[\"ШИФР\"])\n",
    "train[\"ШИФР\"] = l.transform(train[\"ШИФР\"])\n",
    "l.fit(train[\"НАПРАВЛЕНИЕ\"])\n",
    "train[\"НАПРАВЛЕНИЕ\"] = l.transform(train[\"НАПРАВЛЕНИЕ\"])\n",
    "\n",
    "#Удаляем ненужное\n",
    "train = train.drop(\"ГОД\",axis = 1)\n"
   ]
  },
  {
   "cell_type": "code",
   "execution_count": 7,
   "metadata": {},
   "outputs": [],
   "source": [
    "#НС\n",
    "kfold = 5\n",
    "itog_val = {}\n",
    "model_rfc = RandomForestClassifier(n_estimators = 70)\n",
    "model_knc = KNeighborsClassifier(n_neighbors = 24)\n",
    "model_lr = LogisticRegression(penalty = \"l2\", tol = 0.01, max_iter=10000)\n",
    "\n",
    "#Функция определения точности\n",
    "def my_custom_loss_func(y_pred, y_true):\n",
    "    wrong = 0\n",
    "    for i in range(y_true.size):\n",
    "        if y_true[i] != y_pred[i]:\n",
    "            wrong += 1\n",
    "    return (y_true.size-wrong)/y_true.size\n",
    "\n",
    "#Забыл удалить еще кое-что\n",
    "targ = target.mark\n",
    "tr = train.drop([\"Unnamed: 0\",\"STD_ID\"], axis = 1)"
   ]
  },
  {
   "cell_type": "code",
   "execution_count": 11,
   "metadata": {},
   "outputs": [],
   "source": [
    "model_rfc.fit(tr,targ)\n",
    "pred1 = model_rfc.predict(tr)\n",
    "itog_val[\"rfc\"] = my_custom_loss_func(pred1, targ)"
   ]
  },
  {
   "cell_type": "code",
   "execution_count": 12,
   "metadata": {},
   "outputs": [],
   "source": [
    "model_knc.fit(tr,targ)\n",
    "pred2 = model_knc.predict(tr)\n",
    "itog_val[\"knc\"] = my_custom_loss_func(pred2, targ)"
   ]
  },
  {
   "cell_type": "code",
   "execution_count": 8,
   "metadata": {},
   "outputs": [],
   "source": [
    "model_lr.fit(tr,targ)\n",
    "pred3 = model_lr.predict(tr)\n",
    "itog_val[\"lr\"] = my_custom_loss_func(pred3, targ)"
   ]
  },
  {
   "cell_type": "code",
   "execution_count": 13,
   "metadata": {},
   "outputs": [
    {
     "data": {
      "text/plain": [
       "{'lr': 0.43649222334329607,\n",
       " 'rfc': 0.5557691941594167,\n",
       " 'knc': 0.5318776294998953}"
      ]
     },
     "execution_count": 13,
     "metadata": {},
     "output_type": "execute_result"
    },
    {
     "data": {
      "image/png": "[encoded data removed]",
      "text/plain": [
       "<Figure size 432x288 with 1 Axes>"
      ]
     },
     "metadata": {
      "needs_background": "light"
     },
     "output_type": "display_data"
    }
   ],
   "source": [
    "#Смотрим какая лучше\n",
    "pd.DataFrame.from_dict(data = itog_val, orient = \"index\").plot(kind = \"bar\")\n",
    "itog_val"
   ]
  },
  {
   "cell_type": "code",
   "execution_count": 14,
   "metadata": {},
   "outputs": [],
   "source": [
    "test = test.drop(\"ГОД\",axis = 1)\n",
    "s = test[\"STD_ID\"].size\n",
    "code = []\n",
    "direct = []\n",
    "for i in range(s):\n",
    "    code_temp, direct_temp = test[\"НАПРАВЛЕНИЕ\"].values[i].split(\" \",1)\n",
    "    code.append(code_temp)\n",
    "    direct.append(direct_temp)\n",
    "test[\"НАПРАВЛЕНИЕ\"] = pd.Series(direct).values\n",
    "test[\"ШИФР\"] = pd.Series(code).values\n",
    "\n",
    "l.fit(test[\"АТТЕСТАЦИЯ\"])\n",
    "test[\"АТТЕСТАЦИЯ\"] = l.transform(test[\"АТТЕСТАЦИЯ\"])\n",
    "l.fit(test[\"ДИСЦИПЛИНА\"])\n",
    "test[\"ДИСЦИПЛИНА\"] = l.transform(test[\"ДИСЦИПЛИНА\"])\n",
    "l.fit(test[\"ШИФР\"])\n",
    "test[\"ШИФР\"] = l.transform(test[\"ШИФР\"])\n",
    "l.fit(test[\"НАПРАВЛЕНИЕ\"])\n",
    "test[\"НАПРАВЛЕНИЕ\"] = l.transform(test[\"НАПРАВЛЕНИЕ\"])\n",
    "test = test.drop([\"Unnamed: 0\",\"STD_ID\"], axis = 1)"
   ]
  },
  {
   "cell_type": "code",
   "execution_count": 15,
   "metadata": {},
   "outputs": [],
   "source": [
    "model_rfc.fit(tr,targ)\n",
    "pred = model_rfc.predict(test)\\\n",
    "\n",
    "sample_sub[\"mark\"] = pred\n",
    "sample_sub.to_csv(\"sample_submission\", index = False)"
   ]
  },
  {
   "cell_type": "code",
   "execution_count": null,
   "metadata": {},
   "outputs": [],
   "source": []
  }
 ],
 "metadata": {
  "kernelspec": {
   "display_name": "Python 3",
   "language": "python",
   "name": "python3"
  },
  "language_info": {
   "codemirror_mode": {
    "name": "ipython",
    "version": 3
   },
   "file_extension": ".py",
   "mimetype": "text/x-python",
   "name": "python",
   "nbconvert_exporter": "python",
   "pygments_lexer": "ipython3",
   "version": "3.7.6"
  }
 },
 "nbformat": 4,
 "nbformat_minor": 4
}
